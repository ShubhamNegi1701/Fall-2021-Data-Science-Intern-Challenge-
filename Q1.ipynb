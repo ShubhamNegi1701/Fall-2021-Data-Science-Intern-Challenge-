{
  "nbformat": 4,
  "nbformat_minor": 0,
  "metadata": {
    "colab": {
      "name": "Q1.ipynb",
      "provenance": []
    },
    "kernelspec": {
      "name": "python3",
      "display_name": "Python 3"
    },
    "language_info": {
      "name": "python"
    }
  },
  "cells": [
    {
      "cell_type": "code",
      "metadata": {
        "id": "ZLwL5dChes4h"
      },
      "source": [
        "import pandas as pd\n",
        "import seaborn as sns\n",
        "import matplotlib.pyplot as plt"
      ],
      "execution_count": 20,
      "outputs": []
    },
    {
      "cell_type": "markdown",
      "metadata": {
        "id": "QRQ6uL0dnyQz"
      },
      "source": [
        "Importing the dataset"
      ]
    },
    {
      "cell_type": "code",
      "metadata": {
        "id": "dxFtkAzvfkzR"
      },
      "source": [
        "df = pd.read_csv(r'/content/2019 Winter Data Science Intern Challenge Data Set - Sheet1.csv')"
      ],
      "execution_count": 3,
      "outputs": []
    },
    {
      "cell_type": "code",
      "metadata": {
        "colab": {
          "base_uri": "https://localhost:8080/",
          "height": 419
        },
        "id": "M6M_JZYVgdUj",
        "outputId": "dffd2e16-ed64-4730-a214-ff481d6c45dd"
      },
      "source": [
        "df"
      ],
      "execution_count": 7,
      "outputs": [
        {
          "output_type": "execute_result",
          "data": {
            "text/html": [
              "<div>\n",
              "<style scoped>\n",
              "    .dataframe tbody tr th:only-of-type {\n",
              "        vertical-align: middle;\n",
              "    }\n",
              "\n",
              "    .dataframe tbody tr th {\n",
              "        vertical-align: top;\n",
              "    }\n",
              "\n",
              "    .dataframe thead th {\n",
              "        text-align: right;\n",
              "    }\n",
              "</style>\n",
              "<table border=\"1\" class=\"dataframe\">\n",
              "  <thead>\n",
              "    <tr style=\"text-align: right;\">\n",
              "      <th></th>\n",
              "      <th>order_id</th>\n",
              "      <th>shop_id</th>\n",
              "      <th>user_id</th>\n",
              "      <th>order_amount</th>\n",
              "      <th>total_items</th>\n",
              "      <th>payment_method</th>\n",
              "      <th>created_at</th>\n",
              "    </tr>\n",
              "  </thead>\n",
              "  <tbody>\n",
              "    <tr>\n",
              "      <th>0</th>\n",
              "      <td>1</td>\n",
              "      <td>53</td>\n",
              "      <td>746</td>\n",
              "      <td>224</td>\n",
              "      <td>2</td>\n",
              "      <td>cash</td>\n",
              "      <td>2017-03-13 12:36:56</td>\n",
              "    </tr>\n",
              "    <tr>\n",
              "      <th>1</th>\n",
              "      <td>2</td>\n",
              "      <td>92</td>\n",
              "      <td>925</td>\n",
              "      <td>90</td>\n",
              "      <td>1</td>\n",
              "      <td>cash</td>\n",
              "      <td>2017-03-03 17:38:52</td>\n",
              "    </tr>\n",
              "    <tr>\n",
              "      <th>2</th>\n",
              "      <td>3</td>\n",
              "      <td>44</td>\n",
              "      <td>861</td>\n",
              "      <td>144</td>\n",
              "      <td>1</td>\n",
              "      <td>cash</td>\n",
              "      <td>2017-03-14 4:23:56</td>\n",
              "    </tr>\n",
              "    <tr>\n",
              "      <th>3</th>\n",
              "      <td>4</td>\n",
              "      <td>18</td>\n",
              "      <td>935</td>\n",
              "      <td>156</td>\n",
              "      <td>1</td>\n",
              "      <td>credit_card</td>\n",
              "      <td>2017-03-26 12:43:37</td>\n",
              "    </tr>\n",
              "    <tr>\n",
              "      <th>4</th>\n",
              "      <td>5</td>\n",
              "      <td>18</td>\n",
              "      <td>883</td>\n",
              "      <td>156</td>\n",
              "      <td>1</td>\n",
              "      <td>credit_card</td>\n",
              "      <td>2017-03-01 4:35:11</td>\n",
              "    </tr>\n",
              "    <tr>\n",
              "      <th>...</th>\n",
              "      <td>...</td>\n",
              "      <td>...</td>\n",
              "      <td>...</td>\n",
              "      <td>...</td>\n",
              "      <td>...</td>\n",
              "      <td>...</td>\n",
              "      <td>...</td>\n",
              "    </tr>\n",
              "    <tr>\n",
              "      <th>4995</th>\n",
              "      <td>4996</td>\n",
              "      <td>73</td>\n",
              "      <td>993</td>\n",
              "      <td>330</td>\n",
              "      <td>2</td>\n",
              "      <td>debit</td>\n",
              "      <td>2017-03-30 13:47:17</td>\n",
              "    </tr>\n",
              "    <tr>\n",
              "      <th>4996</th>\n",
              "      <td>4997</td>\n",
              "      <td>48</td>\n",
              "      <td>789</td>\n",
              "      <td>234</td>\n",
              "      <td>2</td>\n",
              "      <td>cash</td>\n",
              "      <td>2017-03-16 20:36:16</td>\n",
              "    </tr>\n",
              "    <tr>\n",
              "      <th>4997</th>\n",
              "      <td>4998</td>\n",
              "      <td>56</td>\n",
              "      <td>867</td>\n",
              "      <td>351</td>\n",
              "      <td>3</td>\n",
              "      <td>cash</td>\n",
              "      <td>2017-03-19 5:42:42</td>\n",
              "    </tr>\n",
              "    <tr>\n",
              "      <th>4998</th>\n",
              "      <td>4999</td>\n",
              "      <td>60</td>\n",
              "      <td>825</td>\n",
              "      <td>354</td>\n",
              "      <td>2</td>\n",
              "      <td>credit_card</td>\n",
              "      <td>2017-03-16 14:51:18</td>\n",
              "    </tr>\n",
              "    <tr>\n",
              "      <th>4999</th>\n",
              "      <td>5000</td>\n",
              "      <td>44</td>\n",
              "      <td>734</td>\n",
              "      <td>288</td>\n",
              "      <td>2</td>\n",
              "      <td>debit</td>\n",
              "      <td>2017-03-18 15:48:18</td>\n",
              "    </tr>\n",
              "  </tbody>\n",
              "</table>\n",
              "<p>5000 rows × 7 columns</p>\n",
              "</div>"
            ],
            "text/plain": [
              "      order_id  shop_id  ...  payment_method           created_at\n",
              "0            1       53  ...            cash  2017-03-13 12:36:56\n",
              "1            2       92  ...            cash  2017-03-03 17:38:52\n",
              "2            3       44  ...            cash   2017-03-14 4:23:56\n",
              "3            4       18  ...     credit_card  2017-03-26 12:43:37\n",
              "4            5       18  ...     credit_card   2017-03-01 4:35:11\n",
              "...        ...      ...  ...             ...                  ...\n",
              "4995      4996       73  ...           debit  2017-03-30 13:47:17\n",
              "4996      4997       48  ...            cash  2017-03-16 20:36:16\n",
              "4997      4998       56  ...            cash   2017-03-19 5:42:42\n",
              "4998      4999       60  ...     credit_card  2017-03-16 14:51:18\n",
              "4999      5000       44  ...           debit  2017-03-18 15:48:18\n",
              "\n",
              "[5000 rows x 7 columns]"
            ]
          },
          "metadata": {
            "tags": []
          },
          "execution_count": 7
        }
      ]
    },
    {
      "cell_type": "markdown",
      "metadata": {
        "id": "iu3AeJmuoGO5"
      },
      "source": [
        "# Q1. On Shopify, we have exactly 100 sneaker shops, and each of these shops sells only one model of shoe. We want to do some analysis of the average order value (AOV). When we look at orders data over a 30 day window, we naively calculate an AOV of $3145.13. Given that we know these shops are selling sneakers, a relatively affordable item, something seems wrong with our analysis. \n"
      ]
    },
    {
      "cell_type": "markdown",
      "metadata": {
        "id": "jMx4B4X3oX-H"
      },
      "source": [
        "# a. Think about what could be going wrong with our calculation. Think about a better way to evaluate this data. \n"
      ]
    },
    {
      "cell_type": "code",
      "metadata": {
        "id": "iVDDKB7SodI0"
      },
      "source": [
        "Incorrect_AOV=df['order_amount'].sum() / len(df)"
      ],
      "execution_count": 19,
      "outputs": []
    },
    {
      "cell_type": "markdown",
      "metadata": {
        "id": "-dCRWbM_pcPx"
      },
      "source": [
        "The AOV is initially being incorrectly calculated by dividing the sum of the order amount by the number of rows in the dataset, which is resulting in the AOV of $3145.13\n",
        "\n",
        "This is a bad metric because there exists alot of variation in the number of items being ordered and this should be taken into account. A graph comparing order amount to total items is shown below"
      ]
    },
    {
      "cell_type": "code",
      "metadata": {
        "colab": {
          "base_uri": "https://localhost:8080/",
          "height": 285
        },
        "id": "DNyqHqYEqfQO",
        "outputId": "886e8c26-ae55-482b-ed3f-bfbe33267442"
      },
      "source": [
        "sns.set(style=\"whitegrid\")\n",
        "ax = sns.boxplot(x=df[\"total_items\"], y=df[\"order_amount\"])"
      ],
      "execution_count": 22,
      "outputs": [
        {
          "output_type": "display_data",
          "data": {
            "image/png": "[encoded data removed]",
            "text/plain": [
              "<Figure size 432x288 with 1 Axes>"
            ]
          },
          "metadata": {
            "tags": []
          }
        }
      ]
    },
    {
      "cell_type": "markdown",
      "metadata": {
        "id": "qDq_esLYsaTu"
      },
      "source": [
        "We can also observe a massive variation and outliers in the amount paid using different payment channels"
      ]
    },
    {
      "cell_type": "code",
      "metadata": {
        "colab": {
          "base_uri": "https://localhost:8080/",
          "height": 286
        },
        "id": "Mgmum1PFuBH8",
        "outputId": "19fd7dcb-1f68-419b-eae8-2798da3a383c"
      },
      "source": [
        "sns.set(style=\"whitegrid\")\n",
        "ax = sns.boxplot(x=df[\"payment_method\"], y=df[\"order_amount\"])"
      ],
      "execution_count": 23,
      "outputs": [
        {
          "output_type": "display_data",
          "data": {
            "image/png": "[encoded data removed]",
            "text/plain": [
              "<Figure size 432x288 with 1 Axes>"
            ]
          },
          "metadata": {
            "tags": []
          }
        }
      ]
    },
    {
      "cell_type": "markdown",
      "metadata": {
        "id": "cO_fcKQnsGqS"
      },
      "source": [
        "# b. What metric would you report for this dataset? "
      ]
    },
    {
      "cell_type": "markdown",
      "metadata": {
        "id": "l0wa7JqaubdJ"
      },
      "source": [
        "The metric that can be used is the sum all orders amount and divide by the number of items in the order. In this way, we are calculating the average price of sneakers sold by all the Shopify stores"
      ]
    },
    {
      "cell_type": "code",
      "metadata": {
        "id": "c2kVkkksftFQ"
      },
      "source": [
        "total_revenue = df['order_amount'].sum()"
      ],
      "execution_count": 5,
      "outputs": []
    },
    {
      "cell_type": "code",
      "metadata": {
        "id": "J9rIS5yagaJ6"
      },
      "source": [
        "total_number_of_orders = df['total_items'].sum()"
      ],
      "execution_count": 12,
      "outputs": []
    },
    {
      "cell_type": "code",
      "metadata": {
        "id": "kls9WxBhiDZv"
      },
      "source": [
        "correct_AOV = total_revenue / total_number_of_orders"
      ],
      "execution_count": 13,
      "outputs": []
    },
    {
      "cell_type": "markdown",
      "metadata": {
        "id": "p7Ji1AhouxkA"
      },
      "source": [
        "# What is its value?"
      ]
    },
    {
      "cell_type": "markdown",
      "metadata": {
        "id": "txSgAP8ink_j"
      },
      "source": [
        "the value of the re-calculated AOV is $357.9"
      ]
    }
  ]
}